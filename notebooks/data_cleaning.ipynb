{
 "cells": [
  {
   "cell_type": "code",
   "execution_count": 1,
   "id": "63bdade6-906e-4afe-b989-fd77c3b3f87f",
   "metadata": {},
   "outputs": [],
   "source": [
    "import pandas as pd\n",
    "import geopandas as gpd"
   ]
  },
  {
   "cell_type": "markdown",
   "id": "50d77951-13ba-4a76-be59-f717f3f0761a",
   "metadata": {},
   "source": [
    "# Importing data and setting green threshold"
   ]
  },
  {
   "cell_type": "code",
   "execution_count": 2,
   "id": "20d8f5c6-2fe8-4fb4-a695-330ccb879970",
   "metadata": {},
   "outputs": [],
   "source": [
    "df_raw = gpd.read_file(\"../raw_data/project_data.shp\")"
   ]
  },
  {
   "cell_type": "code",
   "execution_count": 3,
   "id": "2fd9ec1a-c7b2-4d69-b471-aed42159c088",
   "metadata": {},
   "outputs": [],
   "source": [
    "# We decide to call a block green when more than 15% of its area is covered\n",
    "# by green roofs\n",
    "\n",
    "green_thresshold = 15\n",
    "df_raw['green_roof'] = (df_raw['gruen20_p']>green_thresshold).astype(int)"
   ]
  },
  {
   "cell_type": "code",
   "execution_count": 4,
   "id": "5e2f8818-14c4-4b4b-b9b3-49c0ec911a67",
   "metadata": {},
   "outputs": [
    {
     "data": {
      "text/plain": [
       "green_roof\n",
       "0    0.981725\n",
       "1    0.018275\n",
       "Name: count, dtype: float64"
      ]
     },
     "execution_count": 4,
     "metadata": {},
     "output_type": "execute_result"
    }
   ],
   "source": [
    "# We see that our data is unbalanced and therefore we need to be carefull\n",
    "# with the scoring metric we use.\n",
    "df_raw['green_roof'].value_counts()/len(df_raw)"
   ]
  },
  {
   "cell_type": "code",
   "execution_count": 9,
   "id": "6ef6d5ac-266e-4df2-bc66-39c7151d051d",
   "metadata": {},
   "outputs": [
    {
     "data": {
      "text/plain": [
       "Index(['typ__gr', 'typklar__g', 'gruen20_m2', 'gint20_m2', 'gex20_m2',\n",
       "       'gruen20_p', 'gint20_p', 'gex20_p', 'area_geb', 'anzahl_gru',\n",
       "       'anzahl_geb', 'gruen16_m2', 'gruen16_p', 'diff_20_16', 'schl5', 'bez',\n",
       "       'bezirk', 'woz', 'woz_name', 'ststrnr', 'ststrname', 'typ__fln', 'nutz',\n",
       "       'nutzung', 'flalle', 'ueberw_dek', 'freistehen', 'doppelhaus',\n",
       "       'gereihtes', 'anderertyp', 'x_bis_1900', 'x1901_1910', 'x1911_1920',\n",
       "       'x1921_1930', 'x1931_1940', 'x1941_1950', 'x1951_1960', 'x1961_1970',\n",
       "       'x1971_1980', 'x1981_1990', 'x1991_2000', 'x2001_2010', 'x2011_2015',\n",
       "       'ew2015', 'pl_id', 'air_pollut', 'thermal_st', 'status_num',\n",
       "       'status_val', 'dyn_val', 'index__ren', 'bez_rent_a', 'rent',\n",
       "       'unemp_bene', 'social_hou', 'city_owned', 'rent_durat', 'aparts_sol',\n",
       "       'plz', 'subsidized', 'geometry', 'green_roof'],\n",
       "      dtype='object')"
      ]
     },
     "execution_count": 9,
     "metadata": {},
     "output_type": "execute_result"
    }
   ],
   "source": [
    "df_raw.columns"
   ]
  },
  {
   "cell_type": "markdown",
   "id": "c0607cb1-1fda-40db-ba53-677c1a04aae1",
   "metadata": {},
   "source": [
    "# Cleaning"
   ]
  },
  {
   "cell_type": "code",
   "execution_count": 5,
   "id": "9ada5797-e70a-43b8-b740-714c7d3ed0a0",
   "metadata": {},
   "outputs": [],
   "source": [
    "def preprocess_dataframe(df):\n",
    "    \"\"\"\n",
    "    In this function we drop columns, rename columns from german to english,\n",
    "    convert column types to the correct ones, drop NaNs for some columns and convert \n",
    "    percentages to decimals.\n",
    "    \"\"\"\n",
    "    # Drop columns to only keep the ones we want to use\n",
    "    df = df_raw.drop(columns=['schl5','typ__fln','nutz','nutzung','ststrname','ststrnr','pl_id',\n",
    "                      'index__ren','gruen20_m2','gruen20_p','typ__gr','bez','woz',\n",
    "                      'status_num','bez_rent_a','plz','x1901_1910', 'x1911_1920',\n",
    "                      'x1921_1930','x1931_1940','x1941_1950', 'x1951_1960', 'x1961_1970',\n",
    "                      'x1971_1980','x1981_1990','x1991_2000', 'x2001_2010', 'x2011_2015',\n",
    "                      'x_bis_1900','gint20_m2','gex20_m2','gint20_p','gex20_p','freistehen',\n",
    "                      'doppelhaus','gereihtes','anderertyp','gruen16_m2','gruen16_p','diff_20_16',\n",
    "                      'area_geb','anzahl_gru','anzahl_geb','flalle','ueberw_dek'])\n",
    "    \n",
    "    # Rename all the columns to their new value\n",
    "    df.rename(columns = {'typklar__g':'usetype_block','bezirk':'district', 'woz_name':'built_type',\n",
    "                         'ew2015':'residents', 'air_pollut':'air_pollution','aparts_sol':'aparts_sold',\n",
    "                         'thermal_st':'thermal_stress','status_val':'social_status','dyn_val':'social_dyn',\n",
    "                         'unemp_bene':'unemp_benef','city_owned':'hous_assoc', 'rent_durat':'rent_duration'}\n",
    "                      , inplace = True)\n",
    "    \n",
    "    # Convert some column dtypes to their correct Dtype -> (From object to float32)\n",
    "    df[['rent','unemp_benef','social_hou',\n",
    "        'hous_assoc','rent_duration','aparts_sold']] = df[['rent','unemp_benef','social_hou','hous_assoc',\n",
    "                                               'rent_duration','aparts_sold']].astype('float32')\n",
    "    \n",
    "    # Convert float64 columns into float32\n",
    "    float64_cols = df.select_dtypes(include=['float64']).columns\n",
    "    df[float64_cols] = df[float64_cols].astype('float32')\n",
    "    \n",
    "    # Convert int64 columns into bool. For 'green_roof' and 'subsidized' features\n",
    "    int64_cols = df.select_dtypes(include=['int64']).columns\n",
    "    df[int64_cols] = df[int64_cols].astype('bool')\n",
    "    \n",
    "    # Delete rows with NaN in 'built_type' column\n",
    "    df = df[df['built_type'].isna()==False]\n",
    "    \n",
    "    # Delete rows where the rent is == 0. They give no useful information\n",
    "    df = df[df['rent']!=0]\n",
    "    \n",
    "    # Get percentages from the columns\n",
    "    df[['unemp_benef','social_hou','hous_assoc','rent_duration']] = df[['unemp_benef','social_hou','hous_assoc','rent_duration']] /100 \n",
    "    \n",
    "    return df"
   ]
  },
  {
   "cell_type": "code",
   "execution_count": 6,
   "id": "ee849f34-307b-43c5-9b95-bf2a6bd52234",
   "metadata": {},
   "outputs": [],
   "source": [
    "df = preprocess_dataframe(df_raw)"
   ]
  },
  {
   "cell_type": "markdown",
   "id": "7a6e8008-c333-414f-a758-81c0be4ce498",
   "metadata": {},
   "source": [
    "# Exporting"
   ]
  },
  {
   "cell_type": "code",
   "execution_count": 8,
   "id": "722d5665-dc4a-4f14-a1b5-57eac67dd7df",
   "metadata": {},
   "outputs": [
    {
     "name": "stderr",
     "output_type": "stream",
     "text": [
      "/var/folders/ly/4bxnth7x7_b57zj_8nf4ygvr0000gn/T/ipykernel_21576/3752511159.py:1: UserWarning: Column names longer than 10 characters will be truncated when saved to ESRI Shapefile.\n",
      "  df.to_file(\"../raw_data/project_data_clean.shp\")\n"
     ]
    }
   ],
   "source": [
    "df.to_file(\"../raw_data/project_data_clean.shp\")"
   ]
  },
  {
   "cell_type": "code",
   "execution_count": null,
   "id": "058fd9b7-f43b-4a34-b81f-c823ea1e6933",
   "metadata": {},
   "outputs": [],
   "source": []
  }
 ],
 "metadata": {
  "kernelspec": {
   "display_name": "Python 3 (ipykernel)",
   "language": "python",
   "name": "python3"
  },
  "language_info": {
   "codemirror_mode": {
    "name": "ipython",
    "version": 3
   },
   "file_extension": ".py",
   "mimetype": "text/x-python",
   "name": "python",
   "nbconvert_exporter": "python",
   "pygments_lexer": "ipython3",
   "version": "3.10.6"
  }
 },
 "nbformat": 4,
 "nbformat_minor": 5
}
