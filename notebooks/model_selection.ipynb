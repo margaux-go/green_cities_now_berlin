{
 "cells": [
  {
   "cell_type": "code",
   "execution_count": null,
   "metadata": {},
   "outputs": [],
   "source": [
    "%load_ext autoreload\n",
    "%autoreload 2\n",
    "\n",
    "import pandas as pd\n",
    "import geopandas as gpd\n",
    "import matplotlib.pyplot as plt\n",
    "\n",
    "from sklearn.ensemble import GradientBoostingClassifier\n",
    "from sklearn import metrics\n",
    "\n",
    "#from preprocessing.encoding_pipeline import processing_pipe\n",
    "\n",
    "import sys  \n",
    "sys.path.insert(0, '../preprocessing')\n",
    "\n",
    "import encoding_pipeline\n",
    "from encoding_pipeline import processing_pipe\n",
    "\n",
    "from sklearn.model_selection import train_test_split,cross_validate,cross_val_score\n",
    "from sklearn.linear_model import LogisticRegression\n",
    "from sklearn.metrics import accuracy_score, precision_score, recall_score, f1_score\n",
    "from sklearn.dummy import DummyClassifier\n",
    "from sklearn.svm import SVC\n",
    "from sklearn.tree import DecisionTreeClassifier\n",
    "from sklearn.ensemble import RandomForestClassifier\n",
    "from sklearn.ensemble import GradientBoostingClassifier\n",
    "from sklearn.neighbors import KNeighborsClassifier\n",
    "\n",
    "import seaborn as sns\n",
    "\n",
    "from sklearn.model_selection import GridSearchCV, RandomizedSearchCV"
   ]
  },
  {
   "attachments": {},
   "cell_type": "markdown",
   "metadata": {},
   "source": [
    "# Importing and preprocessing clean data\n"
   ]
  },
  {
   "cell_type": "code",
   "execution_count": null,
   "metadata": {},
   "outputs": [],
   "source": [
    "clean_data = gpd.read_file(\"../raw_data/project_data_clean.shp\")"
   ]
  },
  {
   "cell_type": "code",
   "execution_count": null,
   "metadata": {},
   "outputs": [],
   "source": [
    "X_clean = clean_data.drop(columns=['green_roof', 'geometry'])\n",
    "\n",
    "X = pd.DataFrame(processing_pipe(X_clean))\n",
    "y = clean_data['green_roof']"
   ]
  },
  {
   "cell_type": "code",
   "execution_count": null,
   "metadata": {},
   "outputs": [],
   "source": [
    "#split into test and training sets\n",
    "X_train, X_test, y_train, y_test = train_test_split(X, y, test_size = 0.3, random_state = 42)"
   ]
  },
  {
   "attachments": {},
   "cell_type": "markdown",
   "metadata": {},
   "source": [
    "## Models"
   ]
  },
  {
   "attachments": {},
   "cell_type": "markdown",
   "metadata": {},
   "source": [
    "### DummyModel / Baseline"
   ]
  },
  {
   "cell_type": "code",
   "execution_count": null,
   "metadata": {},
   "outputs": [],
   "source": [
    "baseline_model = DummyClassifier(strategy=\"most_frequent\") \n",
    "baseline_model.fit(X_train, y_train) \n",
    "baseline_model.score(X_test, y_test) "
   ]
  },
  {
   "attachments": {},
   "cell_type": "markdown",
   "metadata": {},
   "source": [
    "### Models to crossvalidate"
   ]
  },
  {
   "cell_type": "code",
   "execution_count": null,
   "metadata": {},
   "outputs": [],
   "source": [
    "# Initialze the estimators\n",
    "RandomForest = RandomForestClassifier(random_state=42)\n",
    "SVC_ = SVC(probability=True, random_state=42)\n",
    "LogReg = LogisticRegression(max_iter=1000, random_state=42)\n",
    "DecTree = DecisionTreeClassifier(max_depth=10, random_state=42)\n",
    "KNeigh = KNeighborsClassifier()\n",
    "GradBoost = GradientBoostingClassifier(n_estimators=100, learning_rate=0.1,max_depth=3, random_state=42)"
   ]
  },
  {
   "attachments": {},
   "cell_type": "markdown",
   "metadata": {},
   "source": [
    "### Crossvalidation and visualisation of scores"
   ]
  },
  {
   "cell_type": "code",
   "execution_count": null,
   "metadata": {},
   "outputs": [],
   "source": [
    "spots = [(0,0),(0,1),(0,2),(1,0),(1,1),(1,2)]\n",
    "list_models = [RandomForest, SVC_, LogReg,DecTree, KNeigh,GradBoost]\n",
    "\n",
    "fig, axes = plt.subplots(2, 3, figsize=(20, 10))\n",
    "\n",
    "results_all = {}\n",
    "\n",
    "for idx, model in zip(spots, list_models):\n",
    "    results = cross_validate(model, X_train, y_train, cv = 5,scoring = ['accuracy','precision','recall','f1'])\n",
    "    d = {f\"{model}\".split('(')[0] : pd.DataFrame(results).drop(columns=['fit_time','score_time'])}\n",
    "    results_all[f\"{model}\".split('(')[0]] = results\n",
    "    print(f'{model} done')\n",
    "\n",
    "    sns.barplot(data=d[f\"{model}\".split('(')[0]],ax=axes[idx[0],idx[1]]).set(title=f\"{model}\".split('(')[0])"
   ]
  },
  {
   "cell_type": "code",
   "execution_count": null,
   "metadata": {},
   "outputs": [],
   "source": [
    "fig, axs = plt.subplots(2, 3, figsize=(20, 10))\n",
    "\n",
    "for idx, model in zip(spots, list_models):\n",
    "    model.fit(X_train,y_train)\n",
    "    y_pred = model.predict_proba(X_test)[:, 1]\n",
    "    fpr, tpr, _ = metrics.roc_curve(y_test, y_pred)\n",
    "    auc = round(metrics.roc_auc_score(y_test, y_pred), 4)\n",
    "    \n",
    "    axs[idx[0],idx[1]].plot(fpr,tpr,label=f\"{model}\".split('(')[0] + str(auc))\n",
    "    axs[idx[0],idx[1]].legend()"
   ]
  },
  {
   "attachments": {},
   "cell_type": "markdown",
   "metadata": {},
   "source": [
    "## Grid Search CV: "
   ]
  },
  {
   "cell_type": "code",
   "execution_count": null,
   "metadata": {},
   "outputs": [],
   "source": [
    "%%time\n",
    "\n",
    "params = {}\n",
    "params['n_estimators'] = [10, 50, 100, 250]\n",
    "params['max_depth'] = [5, 10, 20]\n",
    "\n",
    "# Train the grid search model\n",
    "gs = GridSearchCV(GradBoost, params, cv=3, n_jobs=-1, scoring='roc_auc').fit(X_train, y_train)"
   ]
  },
  {
   "cell_type": "code",
   "execution_count": null,
   "metadata": {},
   "outputs": [],
   "source": [
    "gs.best_params_"
   ]
  },
  {
   "attachments": {},
   "cell_type": "markdown",
   "metadata": {},
   "source": []
  }
 ],
 "metadata": {
  "kernelspec": {
   "display_name": "Python 3 (ipykernel)",
   "language": "python",
   "name": "python3"
  },
  "language_info": {
   "codemirror_mode": {
    "name": "ipython",
    "version": 3
   },
   "file_extension": ".py",
   "mimetype": "text/x-python",
   "name": "python",
   "nbconvert_exporter": "python",
   "pygments_lexer": "ipython3",
   "version": "3.10.6"
  }
 },
 "nbformat": 4,
 "nbformat_minor": 4
}
