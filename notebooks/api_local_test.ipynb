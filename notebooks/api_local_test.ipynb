{
 "cells": [
  {
   "cell_type": "code",
   "execution_count": 1,
   "id": "dc84e47f-ef61-4a94-b35c-05e74c6adc15",
   "metadata": {},
   "outputs": [],
   "source": [
    "%load_ext autoreload\n",
    "%autoreload 2"
   ]
  },
  {
   "cell_type": "code",
   "execution_count": 9,
   "id": "51910d6d-4926-45cd-9ef6-0b7e2dc6d184",
   "metadata": {},
   "outputs": [],
   "source": [
    "import requests\n",
    "import pandas as pd"
   ]
  },
  {
   "cell_type": "markdown",
   "id": "fc65ee30-6dc6-46f2-91aa-57cbff1e477d",
   "metadata": {},
   "source": [
    "Once in the api folder run *uvicorn fast_get:app --reload* to run the web server."
   ]
  },
  {
   "cell_type": "code",
   "execution_count": 7,
   "id": "a3f6d688-9547-4a86-b2c4-1eca0fa0c053",
   "metadata": {},
   "outputs": [
    {
     "data": {
      "text/plain": [
       "{'greeting': 'Hello'}"
      ]
     },
     "execution_count": 7,
     "metadata": {},
     "output_type": "execute_result"
    }
   ],
   "source": [
    "# testing root\n",
    "base_url = 'http://127.0.0.1:8000'\n",
    "response = requests.get(base_url)\n",
    "response.json()"
   ]
  },
  {
   "cell_type": "code",
   "execution_count": 33,
   "id": "f1748525-d422-42fb-a123-beff792aafc3",
   "metadata": {
    "scrolled": true
   },
   "outputs": [],
   "source": [
    "# testing predict\n",
    "input_data =  {\"usetype_bl\": [\"Verwaltung\"],\n",
    "  \"district\": [\"Charlottenburg-Wilmersdorf\"],\n",
    "  \"built_type\": [\"Gemeinbedarfs- und Sondernutzung\"],\n",
    "  \"residents\": 0.,\n",
    "  \"air_pollut\": [\"hoch\"],\n",
    "  \"thermal_st\": [\"mittel\"],\n",
    "  \"social_sta\": [\"mittel\"],\n",
    "  \"social_dyn\": [\"positiv\"],\n",
    "  \"rent\": [12.899999618530273],\n",
    "  \"unemp_bene\": [0.0786999985575676],\n",
    "  \"social_hou\": [0.03140000253915787],\n",
    "  \"hous_assoc\": [0.03930000215768814],\n",
    "  \"rent_durat\": [0.6566000580787659],\n",
    "  \"aparts_sol\": [70.4000015258789],\n",
    "  \"subsidized\": [True]}\n",
    "\n",
    "base_url_predict = 'http://127.0.0.1:8000/predict'\n",
    "response = requests.get(base_url_predict,params=input_data)"
   ]
  },
  {
   "cell_type": "code",
   "execution_count": 34,
   "id": "bc139f40-7b85-4305-90c1-0a724eedda8c",
   "metadata": {},
   "outputs": [
    {
     "data": {
      "text/plain": [
       "False"
      ]
     },
     "execution_count": 34,
     "metadata": {},
     "output_type": "execute_result"
    }
   ],
   "source": [
    "# Should return be False\n",
    "response.json()"
   ]
  },
  {
   "cell_type": "code",
   "execution_count": null,
   "id": "80bc2584-b383-442d-b574-ffba589a2dae",
   "metadata": {},
   "outputs": [],
   "source": []
  }
 ],
 "metadata": {
  "kernelspec": {
   "display_name": "Python 3 (ipykernel)",
   "language": "python",
   "name": "python3"
  },
  "language_info": {
   "codemirror_mode": {
    "name": "ipython",
    "version": 3
   },
   "file_extension": ".py",
   "mimetype": "text/x-python",
   "name": "python",
   "nbconvert_exporter": "python",
   "pygments_lexer": "ipython3",
   "version": "3.10.6"
  }
 },
 "nbformat": 4,
 "nbformat_minor": 5
}
