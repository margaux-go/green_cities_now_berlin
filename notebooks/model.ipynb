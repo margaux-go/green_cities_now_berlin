{
 "cells": [
  {
   "cell_type": "code",
   "execution_count": 1,
   "id": "0873e5bd-91d2-49ec-adcb-7b021f774ae0",
   "metadata": {},
   "outputs": [],
   "source": [
    "%load_ext autoreload\n",
    "%autoreload 2"
   ]
  },
  {
   "cell_type": "code",
   "execution_count": 11,
   "id": "37e51431-d9fb-4a4c-bb0a-3b3d73295112",
   "metadata": {},
   "outputs": [],
   "source": [
    "import pandas as pd\n",
    "import geopandas as gpd\n",
    "import matplotlib.pyplot as plt\n",
    "\n",
    "from sklearn.ensemble import GradientBoostingClassifier\n",
    "from sklearn import metrics\n",
    "\n",
    "from preprocessing.encoding_pipeline import processing_pipe"
   ]
  },
  {
   "cell_type": "markdown",
   "id": "27a6f7dc-d9e6-4664-87d6-b03ff81213c1",
   "metadata": {},
   "source": [
    "# Importing and preprocessing clean data"
   ]
  },
  {
   "cell_type": "code",
   "execution_count": 3,
   "id": "2697898b-f102-45d8-b97e-6f7e31a718f0",
   "metadata": {},
   "outputs": [],
   "source": [
    "clean_data = gpd.read_file(\"../raw_data/project_data_clean.shp\")"
   ]
  },
  {
   "cell_type": "code",
   "execution_count": 4,
   "id": "464b0109-22f0-4ec3-8313-02b2ed08100c",
   "metadata": {},
   "outputs": [],
   "source": [
    "X_clean = clean_data.drop(columns=['green_roof', 'geometry'])\n",
    "y = clean_data['green_roof']\n",
    "#geometry = "
   ]
  },
  {
   "cell_type": "code",
   "execution_count": 5,
   "id": "65259bfe-60a7-43ff-b810-f154388e1afe",
   "metadata": {},
   "outputs": [],
   "source": [
    "X = processing_pipe(X_clean)"
   ]
  },
  {
   "cell_type": "code",
   "execution_count": 6,
   "id": "c3f82a2c-d69c-4275-905f-2782819a0d3a",
   "metadata": {},
   "outputs": [
    {
     "data": {
      "text/plain": [
       "(18015, 74)"
      ]
     },
     "execution_count": 6,
     "metadata": {},
     "output_type": "execute_result"
    }
   ],
   "source": [
    "X.shape"
   ]
  },
  {
   "cell_type": "markdown",
   "id": "b01a288f-34ff-48ec-aa3c-c567ebfa7585",
   "metadata": {},
   "source": [
    "# Model training, evaluations and export"
   ]
  },
  {
   "cell_type": "code",
   "execution_count": 38,
   "id": "df8d2a1c-fb71-4841-9acc-c7bd130c4235",
   "metadata": {},
   "outputs": [],
   "source": [
    "model_params = {'ccp_alpha': 0.0,\n",
    " 'criterion': 'squared_error',\n",
    " 'init': None,\n",
    " 'learning_rate': 0.09,\n",
    " 'loss': 'exponential',\n",
    " 'max_depth': 6,\n",
    " 'max_features': None,\n",
    " 'max_leaf_nodes': None,\n",
    " 'min_impurity_decrease': 0.0,\n",
    " 'min_samples_leaf': 6,\n",
    " 'min_samples_split': 100,\n",
    " 'min_weight_fraction_leaf': 0.0,\n",
    " 'n_estimators': 100,\n",
    " 'n_iter_no_change': None,\n",
    " 'random_state': 42,\n",
    " 'subsample': 1.0,\n",
    " 'tol': 0.0001,\n",
    " 'validation_fraction': 0.1,\n",
    " 'verbose': 0,\n",
    " 'warm_start': False}"
   ]
  },
  {
   "cell_type": "code",
   "execution_count": 39,
   "id": "45b8b3fa-b611-403a-b7f9-e0721fc3c6a7",
   "metadata": {},
   "outputs": [],
   "source": [
    "model = GradientBoostingClassifier(**model_params).fit(X, y)"
   ]
  },
  {
   "cell_type": "code",
   "execution_count": 40,
   "id": "18954b75-8823-492c-9797-aeaab00cd661",
   "metadata": {},
   "outputs": [],
   "source": [
    "y_pred_proba = model.predict_proba(X)[:,1]"
   ]
  },
  {
   "cell_type": "code",
   "execution_count": 41,
   "id": "51178ac9-5524-4449-ab24-3a66c017775a",
   "metadata": {},
   "outputs": [
    {
     "data": {
      "image/png": "[encoded data removed]",
      "text/plain": [
       "<Figure size 640x480 with 1 Axes>"
      ]
     },
     "metadata": {},
     "output_type": "display_data"
    }
   ],
   "source": [
    "fpr, tpr, thresholds = metrics.roc_curve(y, y_pred)\n",
    "auc = metrics.roc_auc_score(y, y_pred)\n",
    "\n",
    "plt.plot(fpr,tpr,label= str(auc));"
   ]
  },
  {
   "cell_type": "code",
   "execution_count": 42,
   "id": "bc518b46-dc6d-468a-a6c1-a14d928a8394",
   "metadata": {},
   "outputs": [],
   "source": [
    "# Choosing classification threshold to compensate for unbalanced data\n",
    "metrics_data = pd.DataFrame({'tpr':tpr, 'fpr':fpr, 'thresholds':thresholds})\n",
    "\n",
    "threshold = 0.024697"
   ]
  },
  {
   "cell_type": "code",
   "execution_count": 43,
   "id": "d4ddd6ea-693f-435a-97cc-c77fc66a311d",
   "metadata": {},
   "outputs": [],
   "source": [
    "def custom_predict_proba(y_pred, threshold):\n",
    "    \"\"\"Function applies different threshold for final classification.\n",
    "    For scores above the threshold classifiers returns 1.\n",
    "    For scores under the threshold classifiers returns relative score w.r.t threshold.\n",
    "    \"\"\"\n",
    "    predictions = []\n",
    "    if y_pred.ndim == 1:\n",
    "        for pred in y_pred:\n",
    "            if pred >= threshold:\n",
    "                predictions.append(1)\n",
    "            else:\n",
    "                predictions.append(round(pred/threshold,3))\n",
    "    else:\n",
    "        for pred in y_pred[:,1]:\n",
    "            if pred >= threshold:\n",
    "                predictions.append(1)\n",
    "            else:\n",
    "                predictions.append(round(pred/threshold,3))\n",
    "    return predictions"
   ]
  },
  {
   "cell_type": "code",
   "execution_count": 44,
   "id": "5119354c-49c7-4ca5-8572-5a27f31b17f6",
   "metadata": {},
   "outputs": [],
   "source": [
    "# Computes scores w.r.t to threshold\n",
    "y_pred_threshold =  custom_predict_proba(y_pred, threshold)"
   ]
  },
  {
   "cell_type": "code",
   "execution_count": 45,
   "id": "46e41555-ff4a-4030-a87f-b38bdfc4edb0",
   "metadata": {},
   "outputs": [
    {
     "name": "stdout",
     "output_type": "stream",
     "text": [
      "[[15698  1861]\n",
      " [   55   401]]\n",
      "tpr is: 0.8793859649122807\n",
      "fpr is: 0.10598553448374053\n",
      "This means that the model is capable of predicting 87.93859649122807% of the of the green roofs \n",
      "and 89.40144655162595% of the non-green roofs correctly.\n",
      "\n"
     ]
    }
   ],
   "source": [
    "cm = metrics.confusion_matrix(y, y_pred>threshold)\n",
    "tpr = cm[1][1]/(cm[1][1]+cm[1][0])\n",
    "fpr = cm[0][1]/(cm[0][0]+cm[0][1])\n",
    "\n",
    "print(cm)\n",
    "\n",
    "print('tpr is:',tpr)\n",
    "print('fpr is:',fpr)\n",
    "\n",
    "tt = f\"\"\"This means that the model is capable of predicting {100 * tpr}% of the of the green roofs \n",
    "and { 100 * (1 - fpr)}% of the non-green roofs correctly.\n",
    "\"\"\"\n",
    "print(tt)"
   ]
  },
  {
   "cell_type": "markdown",
   "id": "8aad0631-a5e0-48fb-b0ab-e65453ae8516",
   "metadata": {},
   "source": [
    "# Visualization"
   ]
  },
  {
   "cell_type": "code",
   "execution_count": null,
   "id": "13bf48f1-25c9-44f2-8b86-2365d7370250",
   "metadata": {},
   "outputs": [],
   "source": []
  }
 ],
 "metadata": {
  "kernelspec": {
   "display_name": "Python 3 (ipykernel)",
   "language": "python",
   "name": "python3"
  },
  "language_info": {
   "codemirror_mode": {
    "name": "ipython",
    "version": 3
   },
   "file_extension": ".py",
   "mimetype": "text/x-python",
   "name": "python",
   "nbconvert_exporter": "python",
   "pygments_lexer": "ipython3",
   "version": "3.10.6"
  }
 },
 "nbformat": 4,
 "nbformat_minor": 5
}
