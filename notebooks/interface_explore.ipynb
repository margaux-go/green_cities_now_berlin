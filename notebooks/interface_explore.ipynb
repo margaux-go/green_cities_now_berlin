{
 "cells": [
  {
   "cell_type": "code",
   "execution_count": null,
   "id": "472ffdbc-9cc1-4771-8064-cff6df258e04",
   "metadata": {},
   "outputs": [],
   "source": [
    "%load_ext autoreload\n",
    "%autoreload 2"
   ]
  },
  {
   "cell_type": "code",
   "execution_count": null,
   "id": "5dc9e912-2ade-46c4-beee-3dfca486251a",
   "metadata": {},
   "outputs": [],
   "source": [
    "import pandas as pd\n",
    "import geopandas as gpd\n",
    "import pyproj\n",
    "\n",
    "from sklearn.ensemble import GradientBoostingClassifier\n",
    "from sklearn import metrics\n",
    "\n",
    "from gcnb_pkg.ml_logic.preprocessor import clean_data, processing_pipe\n",
    "from gcnb_pkg.ml_logic.registry import save_data, save_data_geo, save_pipeline, load_data, load_model"
   ]
  },
  {
   "cell_type": "code",
   "execution_count": null,
   "id": "a5897b49-7739-41d6-a3d7-e252a8451b82",
   "metadata": {},
   "outputs": [],
   "source": [
    "root_path = '../'"
   ]
  },
  {
   "cell_type": "markdown",
   "id": "e25a55c7-1c60-497b-82c1-efdadbfbac78",
   "metadata": {},
   "source": [
    "# Exploring preprocess"
   ]
  },
  {
   "cell_type": "markdown",
   "id": "6d45844a-d70d-4cbe-bc75-0dbd05800359",
   "metadata": {},
   "source": [
    "Intermediate steps in the function preprocess() in main.py."
   ]
  },
  {
   "cell_type": "code",
   "execution_count": null,
   "id": "d909d317-cd3c-4176-9b0e-760d53d03930",
   "metadata": {},
   "outputs": [],
   "source": [
    "df_raw = gpd.read_file(root_path+'raw_data/project_data.shp')\n",
    "green_thresshold = 15\n",
    "df_raw['green_roof'] = (df_raw['gruen20_p']>green_thresshold).astype(int)"
   ]
  },
  {
   "cell_type": "code",
   "execution_count": null,
   "id": "642ac309-63e2-45ab-aef7-f06bf0ef7aee",
   "metadata": {},
   "outputs": [],
   "source": [
    "# data cleaning\n",
    "df = clean_data(df_raw)"
   ]
  },
  {
   "cell_type": "code",
   "execution_count": null,
   "id": "2f57d8a0-fa2b-4839-951f-aaca44b29179",
   "metadata": {},
   "outputs": [],
   "source": [
    "# separating target and attributes. Notice we drop geometry since it is not an attribute\n",
    "X_clean = df.drop(columns=['green_roof', 'geometry']).reset_index(drop = True)\n",
    "y = df['green_roof'].reset_index(drop = True)"
   ]
  },
  {
   "cell_type": "code",
   "execution_count": null,
   "id": "8edb67c5-b544-4a01-a8a7-ecfd6897ee7a",
   "metadata": {},
   "outputs": [],
   "source": [
    "#fitting the preprocessing pipeline\n",
    "final_pipe = processing_pipe(X_clean)"
   ]
  },
  {
   "cell_type": "code",
   "execution_count": null,
   "id": "a572aa97-c410-418d-972b-d3b29e08fac6",
   "metadata": {},
   "outputs": [],
   "source": [
    "#transforming data\n",
    "X = pd.DataFrame(final_pipe.transform(X_clean))"
   ]
  },
  {
   "cell_type": "code",
   "execution_count": null,
   "id": "3edc0cda-b8a3-414e-9ee9-d5fa4af24521",
   "metadata": {},
   "outputs": [],
   "source": [
    "#merging target values back to dataframe\n",
    "preprocessed_df = X.merge(y, left_index = True, right_index = True)"
   ]
  },
  {
   "cell_type": "markdown",
   "id": "ada8c85f-c74b-4aaa-b057-4373bfdae97d",
   "metadata": {},
   "source": [
    "# Exploring model training"
   ]
  },
  {
   "cell_type": "markdown",
   "id": "70c788c9-7780-4d1e-b341-dd318c5835e6",
   "metadata": {},
   "source": [
    "Intermediate steps in the function initialize_train_model() in main.py"
   ]
  },
  {
   "cell_type": "code",
   "execution_count": null,
   "id": "92dc649e-d049-42d0-9b99-3d3750cf5b87",
   "metadata": {},
   "outputs": [],
   "source": [
    "preprocessed_df = load_data(root_path, '_preprocessed')"
   ]
  },
  {
   "cell_type": "code",
   "execution_count": null,
   "id": "6eef5604-3b5e-4a53-86cc-dccd74be5589",
   "metadata": {},
   "outputs": [],
   "source": [
    "X = preprocessed_df.drop(columns = 'green_roof')\n",
    "y = preprocessed_df['green_roof']"
   ]
  },
  {
   "cell_type": "code",
   "execution_count": null,
   "id": "01bf6901-fe9a-42e8-bd4e-757dbf0f4e77",
   "metadata": {},
   "outputs": [],
   "source": [
    "# defining model parameters\n",
    "model_params = {'ccp_alpha': 0.0,\n",
    "'criterion': 'squared_error',\n",
    "'init': None,\n",
    "'learning_rate': 0.09,\n",
    "'loss': 'exponential',\n",
    "'max_depth': 6,\n",
    "'max_features': None,\n",
    "'max_leaf_nodes': None,\n",
    "'min_impurity_decrease': 0.0,\n",
    "'min_samples_leaf': 6,\n",
    "'min_samples_split': 100,\n",
    "'min_weight_fraction_leaf': 0.0,\n",
    "'n_estimators': 100,\n",
    "'n_iter_no_change': None,\n",
    "'random_state': 42,\n",
    "'subsample': 1.0,\n",
    "'tol': 0.0001,\n",
    "'validation_fraction': 0.1,\n",
    "'verbose': 0,\n",
    "'warm_start': False}\n",
    "\n",
    "model = GradientBoostingClassifier(**model_params).fit(X, y)"
   ]
  },
  {
   "cell_type": "markdown",
   "id": "cbb5ee62-c13c-4ed8-8922-edf43812c333",
   "metadata": {},
   "source": [
    "# Exploring Model Evaluation"
   ]
  },
  {
   "cell_type": "markdown",
   "id": "bcd4c8d5-0087-4dc5-a85d-4d4f92c09554",
   "metadata": {},
   "source": [
    "Intermediate steps in the function evaluate_model() in main.py"
   ]
  },
  {
   "cell_type": "code",
   "execution_count": null,
   "id": "e05b4cc5-c448-41f2-ad7b-5ebe788d58e8",
   "metadata": {},
   "outputs": [],
   "source": [
    "model = load_model(root_path)\n",
    "preprocessed_df = load_data(root_path, '_preprocessed')\n",
    "X = preprocessed_df.drop(columns = 'green_roof')\n",
    "y = preprocessed_df['green_roof']"
   ]
  },
  {
   "cell_type": "code",
   "execution_count": null,
   "id": "4d62244b-c1f1-4954-813e-cefeaf9e7bc0",
   "metadata": {},
   "outputs": [],
   "source": [
    "y_pred_proba = model.predict_proba(X)[:,1]"
   ]
  },
  {
   "cell_type": "code",
   "execution_count": null,
   "id": "a652ba94-22bb-4db5-b7e2-96ab44d2c4f3",
   "metadata": {},
   "outputs": [],
   "source": [
    "# picking a threshold based on roc curve analysis\n",
    "threshold = 0.024697"
   ]
  },
  {
   "cell_type": "code",
   "execution_count": null,
   "id": "05c9e056-f352-4241-8708-4f2ba81c1304",
   "metadata": {},
   "outputs": [],
   "source": [
    "def custom_predict_proba(y_pred, threshold):\n",
    "    \"\"\"\n",
    "    Function applies different threshold for final classification.\n",
    "    For scores above the threshold classifiers returns 1.\n",
    "    For scores under the threshold classifiers returns relative score w.r.t threshold.\n",
    "    TODO: vectorization\n",
    "    \"\"\"\n",
    "    predictions = []\n",
    "\n",
    "    for pred in y_pred:\n",
    "        if pred >= threshold:\n",
    "            predictions.append(1)\n",
    "        else:\n",
    "            predictions.append(round(pred/threshold,3))\n",
    "    return predictions"
   ]
  },
  {
   "cell_type": "code",
   "execution_count": null,
   "id": "421a7a02-240e-43da-a19b-7ee615bbc1c4",
   "metadata": {},
   "outputs": [],
   "source": [
    "# Computes scores w.r.t to threshold\n",
    "y_pred_threshold =  custom_predict_proba(y_pred_proba, threshold)\n",
    "y_pred = y_pred_proba>threshold\n",
    "\n",
    "#Model Evaluation\n",
    "cm = metrics.confusion_matrix(y, y_pred)\n",
    "tpr = cm[1][1]/(cm[1][1]+cm[1][0])\n",
    "fpr = cm[0][1]/(cm[0][0]+cm[0][1])\n",
    "\n",
    "print('Confusion Matrix:\\n', cm)\n",
    "\n",
    "print('\\ntpr is:',tpr)\n",
    "print('\\nfpr is:',fpr)\n",
    "\n",
    "print(f\"\"\"\\nThis means that the model is capable of predicting {100 * tpr}% of the of the green roofs\n",
    "and { 100 * (1 - fpr)}% of the non-green roofs correctly.\n",
    "\"\"\")"
   ]
  },
  {
   "cell_type": "markdown",
   "id": "4b8659f4-929f-495e-aaf3-1fdf73236682",
   "metadata": {},
   "source": [
    "# Visualization"
   ]
  },
  {
   "cell_type": "code",
   "execution_count": null,
   "id": "3a22647e-de01-44f0-85fa-f6c4016ae581",
   "metadata": {},
   "outputs": [],
   "source": [
    "# selecting the geometry column and converting the reference system\n",
    "geometry = df['geometry'].to_crs(pyproj.CRS.from_epsg(4326))"
   ]
  },
  {
   "cell_type": "code",
   "execution_count": null,
   "id": "a45a0a63-acd3-4774-a196-48ddc44c39c8",
   "metadata": {},
   "outputs": [],
   "source": [
    "# organizing the dataframe for visualization\n",
    "df_vis = df.copy()\n",
    "df_vis['geometry'] = geometry\n",
    "df_vis['green_roof_pred'] = y_pred\n",
    "df_vis['green_roof_pred_thresh'] = y_pred_threshold"
   ]
  },
  {
   "cell_type": "code",
   "execution_count": null,
   "id": "e1069242-18af-4e51-902d-95bb9a438faa",
   "metadata": {},
   "outputs": [],
   "source": [
    "# plotting predicted probabilities\n",
    "df_vis.plot(column = 'green_roof_pred_thresh', cmap = 'viridis', legend = True);"
   ]
  },
  {
   "cell_type": "code",
   "execution_count": null,
   "id": "33d3f5cb-ee84-45ce-bc55-60479e3da75b",
   "metadata": {},
   "outputs": [],
   "source": [
    "# plotting real green roofs situation\n",
    "df_vis.plot(column = 'green_roof', cmap = 'viridis', legend = True);"
   ]
  },
  {
   "cell_type": "code",
   "execution_count": null,
   "id": "e0911cba-7bf5-41da-8ff1-768bcb9aefdf",
   "metadata": {},
   "outputs": [],
   "source": [
    "# plotting air pollution\n",
    "df_vis.plot(column = 'air_pollution', cmap = 'viridis', legend = True);"
   ]
  },
  {
   "cell_type": "code",
   "execution_count": null,
   "id": "491ec43d-3161-447f-a1b3-036fcb98b8d2",
   "metadata": {},
   "outputs": [],
   "source": [
    "# plotting thremal stress\n",
    "df_vis.plot(column = 'thermal_stress', cmap = 'viridis', legend = True);"
   ]
  },
  {
   "cell_type": "code",
   "execution_count": null,
   "id": "9837e396-575b-4968-b5f7-47da9b434e27",
   "metadata": {},
   "outputs": [],
   "source": []
  }
 ],
 "metadata": {
  "kernelspec": {
   "display_name": "Python 3 (ipykernel)",
   "language": "python",
   "name": "python3"
  },
  "language_info": {
   "codemirror_mode": {
    "name": "ipython",
    "version": 3
   },
   "file_extension": ".py",
   "mimetype": "text/x-python",
   "name": "python",
   "nbconvert_exporter": "python",
   "pygments_lexer": "ipython3",
   "version": "3.10.6"
  }
 },
 "nbformat": 4,
 "nbformat_minor": 5
}
