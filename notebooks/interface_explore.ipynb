{
 "cells": [
  {
   "cell_type": "code",
   "execution_count": 1,
   "id": "472ffdbc-9cc1-4771-8064-cff6df258e04",
   "metadata": {},
   "outputs": [],
   "source": [
    "%load_ext autoreload\n",
    "%autoreload 2"
   ]
  },
  {
   "cell_type": "code",
   "execution_count": 24,
   "id": "5dc9e912-2ade-46c4-beee-3dfca486251a",
   "metadata": {},
   "outputs": [],
   "source": [
    "import pandas as pd\n",
    "import geopandas as gpd\n",
    "\n",
    "from sklearn.ensemble import GradientBoostingClassifier\n",
    "\n",
    "from gcnb_pkg.ml_logic.preprocessor import clean_data, processing_pipe\n",
    "from gcnb_pkg.ml_logic.registry import save_data, save_data_geo, save_pipeline, load_data, load_model"
   ]
  },
  {
   "cell_type": "code",
   "execution_count": 3,
   "id": "a5897b49-7739-41d6-a3d7-e252a8451b82",
   "metadata": {},
   "outputs": [],
   "source": [
    "root_path = '../'"
   ]
  },
  {
   "cell_type": "markdown",
   "id": "e25a55c7-1c60-497b-82c1-efdadbfbac78",
   "metadata": {},
   "source": [
    "# Exploring preprocess"
   ]
  },
  {
   "cell_type": "markdown",
   "id": "6d45844a-d70d-4cbe-bc75-0dbd05800359",
   "metadata": {},
   "source": [
    "Intermediate steps in the function preprocess() in main.py."
   ]
  },
  {
   "cell_type": "code",
   "execution_count": 4,
   "id": "d909d317-cd3c-4176-9b0e-760d53d03930",
   "metadata": {},
   "outputs": [],
   "source": [
    "df_raw = gpd.read_file(root_path+'raw_data/project_data.shp')\n",
    "green_thresshold = 15\n",
    "df_raw['green_roof'] = (df_raw['gruen20_p']>green_thresshold).astype(int)"
   ]
  },
  {
   "cell_type": "code",
   "execution_count": 5,
   "id": "642ac309-63e2-45ab-aef7-f06bf0ef7aee",
   "metadata": {},
   "outputs": [],
   "source": [
    "# cleaning and saving clean data\n",
    "df = clean_data(df_raw)"
   ]
  },
  {
   "cell_type": "code",
   "execution_count": 6,
   "id": "2f57d8a0-fa2b-4839-951f-aaca44b29179",
   "metadata": {},
   "outputs": [],
   "source": [
    "# separating target and attribute. Notice we drop geometry since it is not\n",
    "# an attribute\n",
    "X_clean = df.drop(columns=['green_roof', 'geometry']).reset_index(drop = True)\n",
    "y = df['green_roof'].reset_index(drop = True)"
   ]
  },
  {
   "cell_type": "code",
   "execution_count": 7,
   "id": "8edb67c5-b544-4a01-a8a7-ecfd6897ee7a",
   "metadata": {},
   "outputs": [],
   "source": [
    "#fitting the preprocessing pipeline and saving it\n",
    "final_pipe = processing_pipe(X_clean)"
   ]
  },
  {
   "cell_type": "code",
   "execution_count": 8,
   "id": "213c17ec-4556-4c54-941a-8848e7417746",
   "metadata": {},
   "outputs": [],
   "source": [
    "#transforming data and merging target values back to dataframe\n",
    "X = pd.DataFrame(final_pipe.transform(X_clean))"
   ]
  },
  {
   "cell_type": "code",
   "execution_count": 9,
   "id": "d103836a-7b35-4d28-8690-15edec339ec8",
   "metadata": {},
   "outputs": [],
   "source": [
    "preprocessed_df = X.merge(y, left_index = True, right_index = True)"
   ]
  },
  {
   "cell_type": "markdown",
   "id": "ada8c85f-c74b-4aaa-b057-4373bfdae97d",
   "metadata": {},
   "source": [
    "# Exploring model"
   ]
  },
  {
   "cell_type": "markdown",
   "id": "70c788c9-7780-4d1e-b341-dd318c5835e6",
   "metadata": {},
   "source": [
    "Intermediate steps in the function initialize_train_model() in main.py"
   ]
  },
  {
   "cell_type": "code",
   "execution_count": 18,
   "id": "92dc649e-d049-42d0-9b99-3d3750cf5b87",
   "metadata": {},
   "outputs": [],
   "source": [
    "preprocessed_df = load_data(root_path, '_preprocessed')"
   ]
  },
  {
   "cell_type": "code",
   "execution_count": 19,
   "id": "6eef5604-3b5e-4a53-86cc-dccd74be5589",
   "metadata": {},
   "outputs": [],
   "source": [
    "X = preprocessed_df.drop(columns = 'green_roof')\n",
    "y = preprocessed_df['green_roof']"
   ]
  },
  {
   "cell_type": "code",
   "execution_count": 22,
   "id": "01bf6901-fe9a-42e8-bd4e-757dbf0f4e77",
   "metadata": {},
   "outputs": [],
   "source": [
    "# defining model parameters\n",
    "model_params = {'ccp_alpha': 0.0,\n",
    "'criterion': 'squared_error',\n",
    "'init': None,\n",
    "'learning_rate': 0.09,\n",
    "'loss': 'exponential',\n",
    "'max_depth': 6,\n",
    "'max_features': None,\n",
    "'max_leaf_nodes': None,\n",
    "'min_impurity_decrease': 0.0,\n",
    "'min_samples_leaf': 6,\n",
    "'min_samples_split': 100,\n",
    "'min_weight_fraction_leaf': 0.0,\n",
    "'n_estimators': 100,\n",
    "'n_iter_no_change': None,\n",
    "'random_state': 42,\n",
    "'subsample': 1.0,\n",
    "'tol': 0.0001,\n",
    "'validation_fraction': 0.1,\n",
    "'verbose': 0,\n",
    "'warm_start': False}\n",
    "\n",
    "model = GradientBoostingClassifier(**model_params).fit(X, y)"
   ]
  },
  {
   "cell_type": "markdown",
   "id": "bcd4c8d5-0087-4dc5-a85d-4d4f92c09554",
   "metadata": {},
   "source": [
    "Intermediate steps in the function evaluate_model() in main.py"
   ]
  },
  {
   "cell_type": "code",
   "execution_count": 26,
   "id": "e05b4cc5-c448-41f2-ad7b-5ebe788d58e8",
   "metadata": {},
   "outputs": [],
   "source": [
    "model = load_model(root_path)\n",
    "preprocessed_df = load_data(root_path, '_preprocessed')\n",
    "X = preprocessed_df.drop(columns = 'green_roof')\n",
    "y = preprocessed_df['green_roof']"
   ]
  },
  {
   "cell_type": "code",
   "execution_count": 27,
   "id": "4d62244b-c1f1-4954-813e-cefeaf9e7bc0",
   "metadata": {},
   "outputs": [],
   "source": [
    "y_pred_proba = model.predict_proba(X)[:,1]"
   ]
  },
  {
   "cell_type": "code",
   "execution_count": 29,
   "id": "177af2cd-20da-4832-bce0-7080fc48757d",
   "metadata": {},
   "outputs": [
    {
     "data": {
      "text/plain": [
       "1"
      ]
     },
     "execution_count": 29,
     "metadata": {},
     "output_type": "execute_result"
    }
   ],
   "source": [
    "y_pred_proba.ndim"
   ]
  },
  {
   "cell_type": "code",
   "execution_count": null,
   "id": "a652ba94-22bb-4db5-b7e2-96ab44d2c4f3",
   "metadata": {},
   "outputs": [],
   "source": []
  }
 ],
 "metadata": {
  "kernelspec": {
   "display_name": "Python 3 (ipykernel)",
   "language": "python",
   "name": "python3"
  },
  "language_info": {
   "codemirror_mode": {
    "name": "ipython",
    "version": 3
   },
   "file_extension": ".py",
   "mimetype": "text/x-python",
   "name": "python",
   "nbconvert_exporter": "python",
   "pygments_lexer": "ipython3",
   "version": "3.10.6"
  }
 },
 "nbformat": 4,
 "nbformat_minor": 5
}
